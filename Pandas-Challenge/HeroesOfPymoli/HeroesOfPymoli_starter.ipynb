{
 "cells": [
  {
   "cell_type": "markdown",
   "metadata": {},
   "source": [
    "### Note\n",
    "* Instructions have been included for each segment. You do not have to follow them exactly, but they are included to help you think through the steps."
   ]
  },
  {
   "cell_type": "code",
   "execution_count": 34,
   "metadata": {},
   "outputs": [
    {
     "data": {
      "text/html": [
       "<div>\n",
       "<style scoped>\n",
       "    .dataframe tbody tr th:only-of-type {\n",
       "        vertical-align: middle;\n",
       "    }\n",
       "\n",
       "    .dataframe tbody tr th {\n",
       "        vertical-align: top;\n",
       "    }\n",
       "\n",
       "    .dataframe thead th {\n",
       "        text-align: right;\n",
       "    }\n",
       "</style>\n",
       "<table border=\"1\" class=\"dataframe\">\n",
       "  <thead>\n",
       "    <tr style=\"text-align: right;\">\n",
       "      <th></th>\n",
       "      <th>Purchase ID</th>\n",
       "      <th>SN</th>\n",
       "      <th>Age</th>\n",
       "      <th>Gender</th>\n",
       "      <th>Item ID</th>\n",
       "      <th>Item Name</th>\n",
       "      <th>Price</th>\n",
       "    </tr>\n",
       "  </thead>\n",
       "  <tbody>\n",
       "    <tr>\n",
       "      <th>0</th>\n",
       "      <td>0</td>\n",
       "      <td>Lisim78</td>\n",
       "      <td>20</td>\n",
       "      <td>Male</td>\n",
       "      <td>108</td>\n",
       "      <td>Extraction, Quickblade Of Trembling Hands</td>\n",
       "      <td>3.53</td>\n",
       "    </tr>\n",
       "    <tr>\n",
       "      <th>1</th>\n",
       "      <td>1</td>\n",
       "      <td>Lisovynya38</td>\n",
       "      <td>40</td>\n",
       "      <td>Male</td>\n",
       "      <td>143</td>\n",
       "      <td>Frenzied Scimitar</td>\n",
       "      <td>1.56</td>\n",
       "    </tr>\n",
       "    <tr>\n",
       "      <th>2</th>\n",
       "      <td>2</td>\n",
       "      <td>Ithergue48</td>\n",
       "      <td>24</td>\n",
       "      <td>Male</td>\n",
       "      <td>92</td>\n",
       "      <td>Final Critic</td>\n",
       "      <td>4.88</td>\n",
       "    </tr>\n",
       "    <tr>\n",
       "      <th>3</th>\n",
       "      <td>3</td>\n",
       "      <td>Chamassasya86</td>\n",
       "      <td>24</td>\n",
       "      <td>Male</td>\n",
       "      <td>100</td>\n",
       "      <td>Blindscythe</td>\n",
       "      <td>3.27</td>\n",
       "    </tr>\n",
       "    <tr>\n",
       "      <th>4</th>\n",
       "      <td>4</td>\n",
       "      <td>Iskosia90</td>\n",
       "      <td>23</td>\n",
       "      <td>Male</td>\n",
       "      <td>131</td>\n",
       "      <td>Fury</td>\n",
       "      <td>1.44</td>\n",
       "    </tr>\n",
       "  </tbody>\n",
       "</table>\n",
       "</div>"
      ],
      "text/plain": [
       "   Purchase ID             SN  Age Gender  Item ID  \\\n",
       "0            0        Lisim78   20   Male      108   \n",
       "1            1    Lisovynya38   40   Male      143   \n",
       "2            2     Ithergue48   24   Male       92   \n",
       "3            3  Chamassasya86   24   Male      100   \n",
       "4            4      Iskosia90   23   Male      131   \n",
       "\n",
       "                                   Item Name  Price  \n",
       "0  Extraction, Quickblade Of Trembling Hands   3.53  \n",
       "1                          Frenzied Scimitar   1.56  \n",
       "2                               Final Critic   4.88  \n",
       "3                                Blindscythe   3.27  \n",
       "4                                       Fury   1.44  "
      ]
     },
     "execution_count": 34,
     "metadata": {},
     "output_type": "execute_result"
    }
   ],
   "source": [
    "# Dependencies and Setup\n",
    "import pandas as pd\n",
    "\n",
    "# File to Load (Remember to Change These)\n",
    "file_to_load = \"Resources/purchase_data.csv\"\n",
    "\n",
    "# Read Purchasing File and store into Pandas data frame\n",
    "purchase_data = pd.read_csv(file_to_load)\n",
    "purchase_data.head()"
   ]
  },
  {
   "cell_type": "markdown",
   "metadata": {},
   "source": [
    "## Player Count"
   ]
  },
  {
   "cell_type": "markdown",
   "metadata": {},
   "source": [
    "* Display the total number of players\n"
   ]
  },
  {
   "cell_type": "code",
   "execution_count": 35,
   "metadata": {},
   "outputs": [
    {
     "data": {
      "text/html": [
       "<div>\n",
       "<style scoped>\n",
       "    .dataframe tbody tr th:only-of-type {\n",
       "        vertical-align: middle;\n",
       "    }\n",
       "\n",
       "    .dataframe tbody tr th {\n",
       "        vertical-align: top;\n",
       "    }\n",
       "\n",
       "    .dataframe thead th {\n",
       "        text-align: right;\n",
       "    }\n",
       "</style>\n",
       "<table border=\"1\" class=\"dataframe\">\n",
       "  <thead>\n",
       "    <tr style=\"text-align: right;\">\n",
       "      <th></th>\n",
       "      <th>Total Players</th>\n",
       "    </tr>\n",
       "  </thead>\n",
       "  <tbody>\n",
       "    <tr>\n",
       "      <th>0</th>\n",
       "      <td>576</td>\n",
       "    </tr>\n",
       "  </tbody>\n",
       "</table>\n",
       "</div>"
      ],
      "text/plain": [
       "   Total Players\n",
       "0            576"
      ]
     },
     "execution_count": 35,
     "metadata": {},
     "output_type": "execute_result"
    }
   ],
   "source": [
    "#Stores total unique SN\n",
    "total_players = purchase_data[\"SN\"].value_counts()\n",
    "\n",
    "#Creates df of unique SN\n",
    "total_players_df = pd.DataFrame(total_players)\n",
    "\n",
    "#Calculates total player count\n",
    "total_players_count = len(total_players_df.index)\n",
    "\n",
    "#Displays total player count in df\n",
    "total_players_count_df = pd.DataFrame({\"Total Players\": [total_players_count]})\n",
    "total_players_count_df"
   ]
  },
  {
   "cell_type": "markdown",
   "metadata": {},
   "source": [
    "## Purchasing Analysis (Total)"
   ]
  },
  {
   "cell_type": "markdown",
   "metadata": {},
   "source": [
    "* Run basic calculations to obtain number of unique items, average price, etc.\n",
    "\n",
    "\n",
    "* Create a summary data frame to hold the results\n",
    "\n",
    "\n",
    "* Optional: give the displayed data cleaner formatting\n",
    "\n",
    "\n",
    "* Display the summary data frame\n"
   ]
  },
  {
   "cell_type": "code",
   "execution_count": 36,
   "metadata": {
    "scrolled": true
   },
   "outputs": [
    {
     "data": {
      "text/html": [
       "<div>\n",
       "<style scoped>\n",
       "    .dataframe tbody tr th:only-of-type {\n",
       "        vertical-align: middle;\n",
       "    }\n",
       "\n",
       "    .dataframe tbody tr th {\n",
       "        vertical-align: top;\n",
       "    }\n",
       "\n",
       "    .dataframe thead th {\n",
       "        text-align: right;\n",
       "    }\n",
       "</style>\n",
       "<table border=\"1\" class=\"dataframe\">\n",
       "  <thead>\n",
       "    <tr style=\"text-align: right;\">\n",
       "      <th></th>\n",
       "      <th>Number of Unique Items</th>\n",
       "      <th>Average Price</th>\n",
       "      <th>Number of Purchases</th>\n",
       "      <th>Total Revenue</th>\n",
       "    </tr>\n",
       "  </thead>\n",
       "  <tbody>\n",
       "    <tr>\n",
       "      <th>0</th>\n",
       "      <td>179</td>\n",
       "      <td>$3.05</td>\n",
       "      <td>780</td>\n",
       "      <td>$2,379.77</td>\n",
       "    </tr>\n",
       "  </tbody>\n",
       "</table>\n",
       "</div>"
      ],
      "text/plain": [
       "   Number of Unique Items Average Price  Number of Purchases Total Revenue\n",
       "0                     179         $3.05                  780     $2,379.77"
      ]
     },
     "execution_count": 36,
     "metadata": {},
     "output_type": "execute_result"
    }
   ],
   "source": [
    "#Number of unique items\n",
    "unique_items = purchase_data.loc[:, \"Item ID\"].value_counts()\n",
    "unique_items_df = pd.DataFrame(unique_items)\n",
    "unique_items_count = len(unique_items_df.index)\n",
    "\n",
    "#Average purchase price\n",
    "avg_price = purchase_data[\"Price\"].mean()\n",
    "avg_price_format = \"${:,.2f}\".format(avg_price)\n",
    "\n",
    "#Total number of purchases\n",
    "total_purchases = purchase_data[\"Purchase ID\"].count()\n",
    "\n",
    "#Total revenue\n",
    "total_revenue = purchase_data[\"Price\"].sum()\n",
    "total_revenue_format = \"${:,.2f}\".format(total_revenue)\n",
    "\n",
    "#Creates summary df\n",
    "purchasing_analysis_df = pd.DataFrame({\"Number of Unique Items\": [unique_items_count], \"Average Price\": [avg_price_format],\n",
    "                                      \"Number of Purchases\": [total_purchases], \"Total Revenue\": [total_revenue_format]})\n",
    "#Displays summary df\n",
    "purchasing_analysis_df"
   ]
  },
  {
   "cell_type": "markdown",
   "metadata": {},
   "source": [
    "## Gender Demographics"
   ]
  },
  {
   "cell_type": "markdown",
   "metadata": {},
   "source": [
    "* Percentage and Count of Male Players\n",
    "\n",
    "\n",
    "* Percentage and Count of Female Players\n",
    "\n",
    "\n",
    "* Percentage and Count of Other / Non-Disclosed\n",
    "\n",
    "\n"
   ]
  },
  {
   "cell_type": "code",
   "execution_count": 37,
   "metadata": {},
   "outputs": [
    {
     "data": {
      "text/html": [
       "<div>\n",
       "<style scoped>\n",
       "    .dataframe tbody tr th:only-of-type {\n",
       "        vertical-align: middle;\n",
       "    }\n",
       "\n",
       "    .dataframe tbody tr th {\n",
       "        vertical-align: top;\n",
       "    }\n",
       "\n",
       "    .dataframe thead th {\n",
       "        text-align: right;\n",
       "    }\n",
       "</style>\n",
       "<table border=\"1\" class=\"dataframe\">\n",
       "  <thead>\n",
       "    <tr style=\"text-align: right;\">\n",
       "      <th></th>\n",
       "      <th>Total Count</th>\n",
       "      <th>Percentage of Players</th>\n",
       "    </tr>\n",
       "  </thead>\n",
       "  <tbody>\n",
       "    <tr>\n",
       "      <th>Male</th>\n",
       "      <td>484</td>\n",
       "      <td>84.03%</td>\n",
       "    </tr>\n",
       "    <tr>\n",
       "      <th>Female</th>\n",
       "      <td>81</td>\n",
       "      <td>14.06%</td>\n",
       "    </tr>\n",
       "    <tr>\n",
       "      <th>Other/Non-Disclosed</th>\n",
       "      <td>11</td>\n",
       "      <td>1.91%</td>\n",
       "    </tr>\n",
       "  </tbody>\n",
       "</table>\n",
       "</div>"
      ],
      "text/plain": [
       "                     Total Count Percentage of Players\n",
       "Male                         484                84.03%\n",
       "Female                        81                14.06%\n",
       "Other/Non-Disclosed           11                 1.91%"
      ]
     },
     "execution_count": 37,
     "metadata": {},
     "output_type": "execute_result"
    }
   ],
   "source": [
    "#Drops duplicate SN values\n",
    "purchase_data[\"Unique SN\"] = purchase_data[\"SN\"].drop_duplicates(keep=\"first\")\n",
    "\n",
    "#Creates df with unique SN and gender columns\n",
    "player_gender_df = purchase_data[[\"Unique SN\", \"Gender\"]]\n",
    "player_gender_df = player_gender_df.dropna(how='any')\n",
    "player_gender_df\n",
    "\n",
    "#Total count of male players\n",
    "male_count = (player_gender_df[\"Gender\"] == \"Male\").sum()\n",
    "\n",
    "#Total count of female players\n",
    "female_count = (player_gender_df[\"Gender\"] == \"Female\").sum()\n",
    "\n",
    "#Total count of other/non-disclosed players\n",
    "other_count = (player_gender_df[\"Gender\"] == \"Other / Non-Disclosed\").sum()\n",
    "\n",
    "#Percentage of male players\n",
    "male_percentage = (male_count / total_players_count) * 100\n",
    "male_percentage = \"{:.2f}%\".format(male_percentage)\n",
    "\n",
    "#Percentage of female players\n",
    "female_percentage = (female_count / total_players_count) * 100\n",
    "female_percentage = \"{:.2f}%\".format(female_percentage)\n",
    "\n",
    "#Percentage of other/non-disclosed players\n",
    "other_percentage = (other_count / total_players_count) * 100\n",
    "other_percentage = \"{:.2f}%\".format(other_percentage)\n",
    "\n",
    "#Creates summary df\n",
    "gender_demographics_df = pd.DataFrame({\"Total Count\": [male_count, female_count, other_count], \n",
    "                                      \"Percentage of Players\": [male_percentage, female_percentage, other_percentage]}, \n",
    "                                     index=[\"Male\", \"Female\", \"Other/Non-Disclosed\"])\n",
    "#Display summary df\n",
    "gender_demographics_df\n"
   ]
  },
  {
   "cell_type": "markdown",
   "metadata": {},
   "source": [
    "\n",
    "## Purchasing Analysis (Gender)"
   ]
  },
  {
   "cell_type": "markdown",
   "metadata": {},
   "source": [
    "* Run basic calculations to obtain purchase count, avg. purchase price, avg. purchase total per person etc. by gender\n",
    "\n",
    "\n",
    "\n",
    "\n",
    "* Create a summary data frame to hold the results\n",
    "\n",
    "\n",
    "* Optional: give the displayed data cleaner formatting\n",
    "\n",
    "\n",
    "* Display the summary data frame"
   ]
  },
  {
   "cell_type": "code",
   "execution_count": 38,
   "metadata": {},
   "outputs": [
    {
     "data": {
      "text/html": [
       "<div>\n",
       "<style scoped>\n",
       "    .dataframe tbody tr th:only-of-type {\n",
       "        vertical-align: middle;\n",
       "    }\n",
       "\n",
       "    .dataframe tbody tr th {\n",
       "        vertical-align: top;\n",
       "    }\n",
       "\n",
       "    .dataframe thead th {\n",
       "        text-align: right;\n",
       "    }\n",
       "</style>\n",
       "<table border=\"1\" class=\"dataframe\">\n",
       "  <thead>\n",
       "    <tr style=\"text-align: right;\">\n",
       "      <th></th>\n",
       "      <th>Purchase Count</th>\n",
       "      <th>Average Purchase Price</th>\n",
       "      <th>Total Purchase Value</th>\n",
       "      <th>Avg Total Purchase per Person</th>\n",
       "    </tr>\n",
       "  </thead>\n",
       "  <tbody>\n",
       "    <tr>\n",
       "      <th>Male</th>\n",
       "      <td>652</td>\n",
       "      <td>$3.02</td>\n",
       "      <td>$1,967.64</td>\n",
       "      <td>$4.07</td>\n",
       "    </tr>\n",
       "    <tr>\n",
       "      <th>Female</th>\n",
       "      <td>113</td>\n",
       "      <td>$3.20</td>\n",
       "      <td>$361.94</td>\n",
       "      <td>$4.47</td>\n",
       "    </tr>\n",
       "    <tr>\n",
       "      <th>Other/Non-Disclosed</th>\n",
       "      <td>15</td>\n",
       "      <td>$3.35</td>\n",
       "      <td>$50.19</td>\n",
       "      <td>$4.56</td>\n",
       "    </tr>\n",
       "  </tbody>\n",
       "</table>\n",
       "</div>"
      ],
      "text/plain": [
       "                     Purchase Count Average Purchase Price  \\\n",
       "Male                            652                  $3.02   \n",
       "Female                          113                  $3.20   \n",
       "Other/Non-Disclosed              15                  $3.35   \n",
       "\n",
       "                    Total Purchase Value Avg Total Purchase per Person  \n",
       "Male                           $1,967.64                         $4.07  \n",
       "Female                           $361.94                         $4.47  \n",
       "Other/Non-Disclosed               $50.19                         $4.56  "
      ]
     },
     "execution_count": 38,
     "metadata": {},
     "output_type": "execute_result"
    }
   ],
   "source": [
    "#Purchase count by males\n",
    "male_purchase_count = (purchase_data[\"Gender\"] == \"Male\").sum()\n",
    "\n",
    "#Purchase count by females\n",
    "female_purchase_count = (purchase_data[\"Gender\"] == \"Female\").sum()\n",
    "\n",
    "#Purchase count by other/non-disclosed\n",
    "other_purchase_count = (purchase_data[\"Gender\"] == \"Other / Non-Disclosed\").sum()\n",
    "\n",
    "#Gender and price series grouped by gender\n",
    "gender_price_df = purchase_data[[\"Gender\", \"Price\"]]\n",
    "gender_price_group = gender_price_df.groupby([\"Gender\"])\n",
    "\n",
    "#Calculates average purchase price by gender\n",
    "gender_price_group.mean().head()\n",
    "\n",
    "#Calculates average purchase price by male\n",
    "male_avg_price = gender_price_group.mean().iloc[1, 0]\n",
    "male_avg_price = \"${:,.2f}\".format(male_avg_price)\n",
    "\n",
    "#Calculates average purchase price by female\n",
    "female_avg_price = gender_price_group.mean().iloc[0, 0]\n",
    "female_avg_price = \"${:,.2f}\".format(female_avg_price)\n",
    "\n",
    "#Calculates average purchase price by other/non-disclosed\n",
    "other_avg_price = gender_price_group.mean().iloc[2, 0]\n",
    "other_avg_price = \"${:,.2f}\".format(other_avg_price)\n",
    "\n",
    "#Calculates total purchase price by male\n",
    "total_purchase_male = gender_price_group.sum().iloc[1, 0]\n",
    "\n",
    "#Calculates total purchase price by female\n",
    "total_purchase_female = gender_price_group.sum().iloc[0, 0]\n",
    "\n",
    "#Calculates total purchase price by other/non-disclosed\n",
    "total_purchase_other = gender_price_group.sum().iloc[2, 0]\n",
    "\n",
    "#Calculates avg total purchase by male\n",
    "avg_total_male = total_purchase_male / male_count\n",
    "avg_total_male = \"${:,.2f}\".format(avg_total_male)\n",
    "\n",
    "#Calculates avg total purchase by female\n",
    "avg_total_female = total_purchase_female / female_count\n",
    "avg_total_female = \"${:,.2f}\".format(avg_total_female)\n",
    "\n",
    "#Calculates avg total purchase by other/non-disclosed\n",
    "avg_total_other = total_purchase_other / other_count\n",
    "avg_total_other = \"${:,.2f}\".format(avg_total_other)\n",
    "\n",
    "#Formats total purchase by gender\n",
    "total_purchase_male = \"${:,.2f}\".format(total_purchase_male)\n",
    "total_purchase_female = \"${:,.2f}\".format(total_purchase_female)\n",
    "total_purchase_other = \"${:,.2f}\".format(total_purchase_other)\n",
    "\n",
    "#Creates summary df\n",
    "gender_purchase_analysis_df = pd.DataFrame({\"Purchase Count\": [male_purchase_count, female_purchase_count, other_purchase_count], \n",
    "                                           \"Average Purchase Price\": [male_avg_price, female_avg_price, other_avg_price], \n",
    "                                           \"Total Purchase Value\": [total_purchase_male, total_purchase_female, total_purchase_other], \n",
    "                                           \"Avg Total Purchase per Person\": [avg_total_male, avg_total_female, avg_total_other]}, \n",
    "                                           index=[\"Male\", \"Female\", \"Other/Non-Disclosed\"])\n",
    "#Displays summary df\n",
    "gender_purchase_analysis_df\n"
   ]
  },
  {
   "cell_type": "markdown",
   "metadata": {},
   "source": [
    "## Age Demographics"
   ]
  },
  {
   "cell_type": "markdown",
   "metadata": {},
   "source": [
    "* Establish bins for ages\n",
    "\n",
    "\n",
    "* Categorize the existing players using the age bins. Hint: use pd.cut()\n",
    "\n",
    "\n",
    "* Calculate the numbers and percentages by age group\n",
    "\n",
    "\n",
    "* Create a summary data frame to hold the results\n",
    "\n",
    "\n",
    "* Optional: round the percentage column to two decimal points\n",
    "\n",
    "\n",
    "* Display Age Demographics Table\n"
   ]
  },
  {
   "cell_type": "code",
   "execution_count": 92,
   "metadata": {},
   "outputs": [
    {
     "data": {
      "text/html": [
       "<style  type=\"text/css\" >\n",
       "</style><table id=\"T_924da30c_055e_11eb_89be_7470fd001715\" ><thead>    <tr>        <th class=\"blank level0\" ></th>        <th class=\"col_heading level0 col0\" >Total Count</th>        <th class=\"col_heading level0 col1\" >Percentage of Players</th>    </tr>    <tr>        <th class=\"index_name level0\" >Age Group</th>        <th class=\"blank\" ></th>        <th class=\"blank\" ></th>    </tr></thead><tbody>\n",
       "                <tr>\n",
       "                        <th id=\"T_924da30c_055e_11eb_89be_7470fd001715level0_row0\" class=\"row_heading level0 row0\" ><10</th>\n",
       "                        <td id=\"T_924da30c_055e_11eb_89be_7470fd001715row0_col0\" class=\"data row0 col0\" >17</td>\n",
       "                        <td id=\"T_924da30c_055e_11eb_89be_7470fd001715row0_col1\" class=\"data row0 col1\" >2.95%</td>\n",
       "            </tr>\n",
       "            <tr>\n",
       "                        <th id=\"T_924da30c_055e_11eb_89be_7470fd001715level0_row1\" class=\"row_heading level0 row1\" >10-14</th>\n",
       "                        <td id=\"T_924da30c_055e_11eb_89be_7470fd001715row1_col0\" class=\"data row1 col0\" >22</td>\n",
       "                        <td id=\"T_924da30c_055e_11eb_89be_7470fd001715row1_col1\" class=\"data row1 col1\" >3.82%</td>\n",
       "            </tr>\n",
       "            <tr>\n",
       "                        <th id=\"T_924da30c_055e_11eb_89be_7470fd001715level0_row2\" class=\"row_heading level0 row2\" >15-19</th>\n",
       "                        <td id=\"T_924da30c_055e_11eb_89be_7470fd001715row2_col0\" class=\"data row2 col0\" >107</td>\n",
       "                        <td id=\"T_924da30c_055e_11eb_89be_7470fd001715row2_col1\" class=\"data row2 col1\" >18.58%</td>\n",
       "            </tr>\n",
       "            <tr>\n",
       "                        <th id=\"T_924da30c_055e_11eb_89be_7470fd001715level0_row3\" class=\"row_heading level0 row3\" >20-24</th>\n",
       "                        <td id=\"T_924da30c_055e_11eb_89be_7470fd001715row3_col0\" class=\"data row3 col0\" >258</td>\n",
       "                        <td id=\"T_924da30c_055e_11eb_89be_7470fd001715row3_col1\" class=\"data row3 col1\" >44.79%</td>\n",
       "            </tr>\n",
       "            <tr>\n",
       "                        <th id=\"T_924da30c_055e_11eb_89be_7470fd001715level0_row4\" class=\"row_heading level0 row4\" >25-29</th>\n",
       "                        <td id=\"T_924da30c_055e_11eb_89be_7470fd001715row4_col0\" class=\"data row4 col0\" >77</td>\n",
       "                        <td id=\"T_924da30c_055e_11eb_89be_7470fd001715row4_col1\" class=\"data row4 col1\" >13.37%</td>\n",
       "            </tr>\n",
       "            <tr>\n",
       "                        <th id=\"T_924da30c_055e_11eb_89be_7470fd001715level0_row5\" class=\"row_heading level0 row5\" >30-34</th>\n",
       "                        <td id=\"T_924da30c_055e_11eb_89be_7470fd001715row5_col0\" class=\"data row5 col0\" >52</td>\n",
       "                        <td id=\"T_924da30c_055e_11eb_89be_7470fd001715row5_col1\" class=\"data row5 col1\" >9.03%</td>\n",
       "            </tr>\n",
       "            <tr>\n",
       "                        <th id=\"T_924da30c_055e_11eb_89be_7470fd001715level0_row6\" class=\"row_heading level0 row6\" >35-39</th>\n",
       "                        <td id=\"T_924da30c_055e_11eb_89be_7470fd001715row6_col0\" class=\"data row6 col0\" >31</td>\n",
       "                        <td id=\"T_924da30c_055e_11eb_89be_7470fd001715row6_col1\" class=\"data row6 col1\" >5.38%</td>\n",
       "            </tr>\n",
       "            <tr>\n",
       "                        <th id=\"T_924da30c_055e_11eb_89be_7470fd001715level0_row7\" class=\"row_heading level0 row7\" >40+</th>\n",
       "                        <td id=\"T_924da30c_055e_11eb_89be_7470fd001715row7_col0\" class=\"data row7 col0\" >12</td>\n",
       "                        <td id=\"T_924da30c_055e_11eb_89be_7470fd001715row7_col1\" class=\"data row7 col1\" >2.08%</td>\n",
       "            </tr>\n",
       "    </tbody></table>"
      ],
      "text/plain": [
       "<pandas.io.formats.style.Styler at 0x17f535479b0>"
      ]
     },
     "execution_count": 92,
     "metadata": {},
     "output_type": "execute_result"
    }
   ],
   "source": [
    "#Establish bins for ages\n",
    "bins = [0, 9.9, 14.9, 19.9, 24.9, 29.9, 34.9, 39.9, 50]\n",
    "\n",
    "#Categories for bins\n",
    "age_group = [\"<10\", \"10-14\", \"15-19\", \"20-24\", \"25-29\", \"30-34\", \"35-39\", \"40+\"]\n",
    "\n",
    "#Creates new series called Age Group in purchase data df\n",
    "pd.cut(purchase_data[\"Age\"], bins, labels=age_group).head()\n",
    "purchase_data[\"Age Group\"] = pd.cut(purchase_data[\"Age\"], bins, labels=age_group)\n",
    "\n",
    "#Creates new df based on Unique SN and Age Group series from purchase data\n",
    "age_group_df = purchase_data[[\"Unique SN\", \"Age Group\"]]\n",
    "clean_age_group_df = age_group_df.dropna(how=\"any\")\n",
    "\n",
    "#Groups df by Age Group series and counts total players per age group\n",
    "age_group_count_df = clean_age_group_df.groupby([\"Age Group\"]).count()\n",
    "\n",
    "#Calculates percent total of players per age group\n",
    "age_group_percent_df = age_group_count_df[\"Unique SN\"].div(576).multiply(100)\n",
    "age_group_percent_df = pd.DataFrame(age_group_percent_df)\n",
    "\n",
    "#Merges age_group_count_df and age_group_percent_df for summary df\n",
    "merge_df = pd.merge(age_group_count_df, age_group_percent_df, on=\"Age Group\")\n",
    "\n",
    "#Renames columns\n",
    "merge_df = merge_df.rename(columns={\"Unique SN_x\": \"Total Count\", \"Unique SN_y\": \"Percentage of Players\"})\n",
    "\n",
    "#Formats series to percentage\n",
    "age_summary_df = merge_df.style.format({\"Percentage of Players\": \"{:.2f}%\".format})\n",
    "\n",
    "#Displays summary df\n",
    "age_summary_df"
   ]
  },
  {
   "cell_type": "markdown",
   "metadata": {},
   "source": [
    "## Purchasing Analysis (Age)"
   ]
  },
  {
   "cell_type": "markdown",
   "metadata": {},
   "source": [
    "* Bin the purchase_data data frame by age\n",
    "\n",
    "\n",
    "* Run basic calculations to obtain purchase count, avg. purchase price, avg. purchase total per person etc. in the table below\n",
    "\n",
    "\n",
    "* Create a summary data frame to hold the results\n",
    "\n",
    "\n",
    "* Optional: give the displayed data cleaner formatting\n",
    "\n",
    "\n",
    "* Display the summary data frame"
   ]
  },
  {
   "cell_type": "code",
   "execution_count": null,
   "metadata": {},
   "outputs": [],
   "source": []
  },
  {
   "cell_type": "markdown",
   "metadata": {},
   "source": [
    "## Top Spenders"
   ]
  },
  {
   "cell_type": "markdown",
   "metadata": {},
   "source": [
    "* Run basic calculations to obtain the results in the table below\n",
    "\n",
    "\n",
    "* Create a summary data frame to hold the results\n",
    "\n",
    "\n",
    "* Sort the total purchase value column in descending order\n",
    "\n",
    "\n",
    "* Optional: give the displayed data cleaner formatting\n",
    "\n",
    "\n",
    "* Display a preview of the summary data frame\n",
    "\n"
   ]
  },
  {
   "cell_type": "code",
   "execution_count": null,
   "metadata": {},
   "outputs": [],
   "source": []
  },
  {
   "cell_type": "markdown",
   "metadata": {},
   "source": [
    "## Most Popular Items"
   ]
  },
  {
   "cell_type": "markdown",
   "metadata": {},
   "source": [
    "* Retrieve the Item ID, Item Name, and Item Price columns\n",
    "\n",
    "\n",
    "* Group by Item ID and Item Name. Perform calculations to obtain purchase count, average item price, and total purchase value\n",
    "\n",
    "\n",
    "* Create a summary data frame to hold the results\n",
    "\n",
    "\n",
    "* Sort the purchase count column in descending order\n",
    "\n",
    "\n",
    "* Optional: give the displayed data cleaner formatting\n",
    "\n",
    "\n",
    "* Display a preview of the summary data frame\n",
    "\n"
   ]
  },
  {
   "cell_type": "code",
   "execution_count": null,
   "metadata": {},
   "outputs": [],
   "source": []
  },
  {
   "cell_type": "markdown",
   "metadata": {},
   "source": [
    "## Most Profitable Items"
   ]
  },
  {
   "cell_type": "markdown",
   "metadata": {},
   "source": [
    "* Sort the above table by total purchase value in descending order\n",
    "\n",
    "\n",
    "* Optional: give the displayed data cleaner formatting\n",
    "\n",
    "\n",
    "* Display a preview of the data frame\n",
    "\n"
   ]
  },
  {
   "cell_type": "code",
   "execution_count": null,
   "metadata": {
    "scrolled": true
   },
   "outputs": [],
   "source": []
  }
 ],
 "metadata": {
  "anaconda-cloud": {},
  "kernel_info": {
   "name": "python3"
  },
  "kernelspec": {
   "display_name": "Python 3",
   "language": "python",
   "name": "python3"
  },
  "language_info": {
   "codemirror_mode": {
    "name": "ipython",
    "version": 3
   },
   "file_extension": ".py",
   "mimetype": "text/x-python",
   "name": "python",
   "nbconvert_exporter": "python",
   "pygments_lexer": "ipython3",
   "version": "3.6.12"
  },
  "latex_envs": {
   "LaTeX_envs_menu_present": true,
   "autoclose": false,
   "autocomplete": true,
   "bibliofile": "biblio.bib",
   "cite_by": "apalike",
   "current_citInitial": 1,
   "eqLabelWithNumbers": true,
   "eqNumInitial": 1,
   "hotkeys": {
    "equation": "Ctrl-E",
    "itemize": "Ctrl-I"
   },
   "labels_anchors": false,
   "latex_user_defs": false,
   "report_style_numbering": false,
   "user_envs_cfg": false
  },
  "nteract": {
   "version": "0.2.0"
  }
 },
 "nbformat": 4,
 "nbformat_minor": 2
}
